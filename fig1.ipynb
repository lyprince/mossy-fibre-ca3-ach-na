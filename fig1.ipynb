{
 "cells": [
  {
   "cell_type": "markdown",
   "metadata": {},
   "source": [
    "# Figure 1: Carbachol affects DG-CA3 excitatory and inhibitory transmission"
   ]
  },
  {
   "cell_type": "code",
   "execution_count": 1,
   "metadata": {},
   "outputs": [],
   "source": [
    "%matplotlib inline\n",
    "\n",
    "import numpy as np\n",
    "from neo.io import NeoHdf5IO\n",
    "import matplotlib.pyplot as plt\n",
    "from scipy.signal import butter,filtfilt,lfilter\n",
    "\n",
    "try:\n",
    "    from stfio.stfio_plot import plot_scalebars\n",
    "    sb=True\n",
    "except ImportError:\n",
    "    sb=False"
   ]
  },
  {
   "cell_type": "markdown",
   "metadata": {},
   "source": [
    "## Data processing functions "
   ]
  },
  {
   "cell_type": "code",
   "execution_count": 2,
   "metadata": {},
   "outputs": [],
   "source": [
    "def filter_psc(psc,samp_freq,kwidth=0.0003):\n",
    "    '''Filter PSCs with narrow gaussian filter'''\n",
    "    k = gauss_kernel(kwidth,samp_freq,8*kwidth) # filter window is 8 standard deviations\n",
    "    fpsc =filtfilt(k,[1],psc)\n",
    "    return fpsc\n",
    "\n",
    "\n",
    "def gauss_kernel(sigma,sample_rate,duration):\n",
    "    '''Gaussian kernel shape'''\n",
    "    l = duration*sample_rate\n",
    "    x = np.arange(-np.floor(l/2),np.floor(l/2))/sample_rate\n",
    "    y = (1/(np.sqrt(2*np.pi)*sigma))*np.exp(-(x**2/(2*sigma**2))) # normal distribution\n",
    "    y/=sum(y) # area sums to 1\n",
    "    return y\n",
    "\n",
    "\n",
    "def extract_batch_amps(traces,samp_freq,tbase,latency,win,argm):\n",
    "    '''Extract all PSC amplitudes from traces'''\n",
    "    \n",
    "    traces = np.array(traces)\n",
    "    ftraces = [filter_psc(trace,samp_freq) for trace in traces]\n",
    "    batch_amps = [extract_psc_amps(ftrace,tbase,latency,win,argm) for ftrace in ftraces]\n",
    "    return batch_amps\n",
    "\n",
    "\n",
    "def extract_psc_amps(trace,tbase,latency,win,argm):\n",
    "    \n",
    "    '''Extract PSC amplitude from single trace'''\n",
    "    trace_amps = []\n",
    "    tbase = int(tbase*25000)\n",
    "    latency = int(latency*25000)\n",
    "    win = int(win*25000)\n",
    "    for i in range(4):\n",
    "        start = i*len(trace)/4\n",
    "        psc = trace[start:start+latency+tbase]\n",
    "        base = np.mean(psc[tbase-10:tbase])\n",
    "        peak = argm(psc[latency-win:latency+win])\n",
    "        amp = peak - base\n",
    "        trace_amps.append(amp)\n",
    "    return trace_amps\n",
    "\n",
    "\n",
    "def load_data(path):\n",
    "    '''Load data from .h5 file'''\n",
    "    r = NeoHdf5IO(path)\n",
    "    blks = r.read_all_blocks()\n",
    "    r.close\n",
    "    data = [blk.segments[0].analogsignalarrays[0] for blk in blks]\n",
    "    return data"
   ]
  },
  {
   "cell_type": "markdown",
   "metadata": {},
   "source": [
    "## Plotting functions"
   ]
  },
  {
   "cell_type": "code",
   "execution_count": 3,
   "metadata": {},
   "outputs": [],
   "source": [
    "def remove_upper_right_ticks(ax):\n",
    "    '''Remove and lines from upper and right edges of figure'''\n",
    "    \n",
    "    ax.spines['top'].set_visible(False)\n",
    "    ax.spines['right'].set_visible(False)\n",
    "    ax.yaxis.set_ticks_position('left')\n",
    "    ax.xaxis.set_ticks_position('bottom')\n",
    "    \n",
    "def stim_artefact_removal(trace_list):\n",
    "    '''Remove stim artefacts from trace'''\n",
    "    for i in xrange(4):\n",
    "        ix = i*1250\n",
    "        sa = 25\n",
    "        for trace in trace_list:\n",
    "            trace[ix:ix+sa] = np.zeros(sa)\n",
    "    return trace_list\n",
    "\n",
    "def plot_dcgiv_block_example(data,n,colors,figsize=(8,6)):\n",
    "    '''Plot example traces of DCG-IV block'''\n",
    "    \n",
    "    ctrl = [x[:,:10]for x in data] # Control taken from first 10 samples\n",
    "    dcgiv = [x[:,-10:] for x in data] # Effect taken from last 10 samples\n",
    "    \n",
    "    fig = plt.figure(figsize=figsize)\n",
    "\n",
    "    time = np.linspace(0,200,5000)\n",
    "    trace1 = ctrl[n] # select only traces from cell n\n",
    "    trace2 = dcgiv[n]\n",
    "\n",
    "    plt.plot(time,trace1.mean(axis=1),colors[0],linewidth=3) # plot average trace\n",
    "    plt.plot(time,trace2.mean(axis=1),'k',linewidth=3)\n",
    "\n",
    "    ax = plt.gca()\n",
    "    \n",
    "    if sb:\n",
    "        plot_scalebars(ax,xunits='ms',yunits='pA') # add scalebar\n",
    "        plt.axis('off'); # remove axis lines\n",
    "    \n",
    "    plt.legend(('Control','1 $\\mathrm{\\mu}$M DCG-IV'),fontsize=16,frameon=False,loc='best')\n",
    "    \n",
    "    return fig\n",
    "\n",
    "def plot_dcgiv_time_series(data,sig_dict,colors,figsize=(6,3)):\n",
    "    '''Plot progression of DCG-IV effect over time'''\n",
    "    \n",
    "    # Extract PSC amplitudes from data\n",
    "    data_amps_all = np.array([extract_batch_amps(traces.T,\n",
    "                                             samp_freq=sig_dict['samp_freq'],\n",
    "                                             tbase=sig_dict['tbase'],\n",
    "                                             latency=sig_dict['latency'],\n",
    "                                             win=sig_dict['win'],\n",
    "                                             argm=sig_dict['argm']) for traces in data])\n",
    "\n",
    "    fig =plt.figure(figsize=(6,3))\n",
    "\n",
    "    n = min([len(d) for d in data_amps_all]) # find length of shortest recording\n",
    "    X = []\n",
    "    # Normalise each trace to average of first 10 samples without drug present (control)\n",
    "    for x in data_amps_all:\n",
    "        x = np.array(x)\n",
    "        x = x.T[3]\n",
    "        norm = (x[:10]).mean()\n",
    "        X.append(x[:n]/norm)\n",
    "\n",
    "    X = np.array(X)\n",
    "    ma_win = 3\n",
    "\n",
    "    S = X.std(axis=0)[ma_win-1::3]/len(data_amps_all) # standard error\n",
    "    M = lfilter(np.ones(ma_win)/ma_win,[1],X.mean(axis=0))[ma_win-1::3] # average every three samples\n",
    "    T = np.arange(len(S)) + 1\n",
    "\n",
    "    # means and standard error of the mean\n",
    "    l1= plt.errorbar(T,M,yerr=S,\n",
    "                     fmt='o',color=colors[0],ecolor=colors[0],ms=5)[0]\n",
    "\n",
    "    # Show line for y = 1, i.e., no effect\n",
    "    plt.axhline(y=1.0,lw=1,ls='--',color='k')\n",
    "    \n",
    "    # Change background color to gray to indicate time of drug application\n",
    "    plt.axvspan(xmin=11/3.,xmax=n/3.,color='#A59A9A',alpha=0.25)\n",
    "    \n",
    "    return fig\n",
    "\n",
    "def plot_cch_example(data,n,colors,remove_stimaf,figsize=(9,3)):\n",
    "    \n",
    "    '''Plot example average traces of Control and CCh effect'''\n",
    "    \n",
    "    ctrl = [x[:,:10]for x in data] # Take first 10 traces as control\n",
    "    cch = [x[:,-10:] for x in data] # Take last 10 traces as effect\n",
    "    \n",
    "    time = np.linspace(0,200,5000)\n",
    "    \n",
    "    fig,(ax1,ax2) = plt.subplots(nrows=1,ncols=2,sharex=True,sharey=True,figsize=figsize)\n",
    "\n",
    "    trace1 = ctrl[n].mean(axis=1) # Select only the nth cell to average over\n",
    "    trace2 = cch[n].mean(axis=1)\n",
    "    \n",
    "    # Remove Stim Artefact if True\n",
    "    if remove_stimaf:\n",
    "        trace1,trace2 = stim_artefact_removal([trace1,trace2])\n",
    "\n",
    "    l1 = ax1.plot(time,trace1,colors[0],linewidth=3)[0]\n",
    "    ax1.set_title('Control',fontsize=20)\n",
    "    \n",
    "    # Insert scalebars\n",
    "    if sb:\n",
    "        plot_scalebars(ax1,xunits='ms',yunits='pA')\n",
    "        ax1.axis('off') # remove axis\n",
    "        ax2.axis('off') # remove axis\n",
    "\n",
    "    l2 = ax2.plot(time,trace2,colors[1],linewidth=3)[0]\n",
    "    ax2.set_title('5 $\\mathrm{\\mu}$M CCh',fontsize=20)\n",
    "\n",
    "    \n",
    "    return fig\n",
    "    \n",
    "def plot_cch_amps(data,sig_dict,colors,figsize=(4,4)):\n",
    "    \n",
    "    '''Plot amplitudes of PSC before and after CCh as a bar chart'''\n",
    "    \n",
    "    ctrl = [x[:,:10]for x in data] # First 10 samples are control\n",
    "    cch = [x[:,-10:] for x in data] # Last 10 samples are effect\n",
    "    \n",
    "    # Extract amplitudes from control data\n",
    "    ctrl_amps_all = [extract_batch_amps(traces.T,\n",
    "                                        samp_freq=sig_dict['samp_freq'],\n",
    "                                        tbase=sig_dict['tbase'],\n",
    "                                        latency=sig_dict['latency'],\n",
    "                                        win=sig_dict['win'],\n",
    "                                        argm=sig_dict['argm']) for traces in ctrl]\n",
    "    \n",
    "    # Extract amplitudes from effect data\n",
    "    cch_amps_all = [extract_batch_amps(traces.T,\n",
    "                                       samp_freq=sig_dict['samp_freq'],\n",
    "                                       tbase=sig_dict['tbase'],\n",
    "                                       latency=sig_dict['latency'],\n",
    "                                       win=sig_dict['win'],\n",
    "                                       argm=sig_dict['argm']) for traces in cch]\n",
    "    \n",
    "    # Get means of extracted amplitudes from each cell\n",
    "    ctrl_means = np.squeeze([np.mean(c,axis=0) for c in ctrl_amps_all])\n",
    "    cch_means = np.squeeze([np.mean(d[-10:],axis=0) for d in cch_amps_all])\n",
    "\n",
    "    fig = plt.figure(figsize=figsize)\n",
    "    \n",
    "    L = len(ctrl_means.T) # Number of PSCs\n",
    "    N = len(ctrl_means) # Number of cells\n",
    "    plt.bar(range(L),np.mean(cch_means,axis=0)/np.mean(ctrl_means,axis=0),\n",
    "                 yerr=np.std(cch_means/ctrl_means,axis=0)/N,color=colors[0],ecolor='k')\n",
    "    plt.xticks(np.arange(L),np.arange(L)+1,fontsize=16)\n",
    "    \n",
    "    return fig,[ctrl_means,cch_means]\n",
    "\n",
    "def plot_cch_ppr(means,sig_dict,colors,figsize=(4,4)):\n",
    "    \n",
    "    '''Plot nth pulse ratio of PSCs before and after carbachol'''\n",
    "    \n",
    "    ctrl_means,cch_means = means\n",
    "    \n",
    "    # Nth pulse ratio: ratio between nth pulse and 1st pulse where n > 1\n",
    "    ctr_ppr = (ctrl_means.T[1:]/ctrl_means.T[0].mean()).T\n",
    "    cch_ppr = (cch_means.T[1:]/cch_means.T[0].mean()).T\n",
    "\n",
    "    fig = plt.figure(figsize=figsize)\n",
    "    width = 0.4\n",
    "    plt.bar(np.arange(3),np.mean(ctr_ppr,axis=0),\n",
    "                 yerr=np.std(ctr_ppr,axis=0)/8,color=colors[0],ecolor='k',width=width)\n",
    "    plt.bar(np.arange(3)+width,np.mean(cch_ppr,axis=0),\n",
    "                 yerr=np.std(cch_ppr,axis=0)/8,color=colors[1],ecolor='k',width=width)\n",
    "    \n",
    "    plt.xticks(np.arange(3)+width/2,range(2,5),fontsize=16)\n",
    "    \n",
    "    \n",
    "    plt.xlabel('Pulse num',fontsize=16)\n",
    "    plt.ylabel('Ratio',fontsize=16)\n",
    "    plt.yticks(fontsize=16)\n",
    "    plt.title('$\\mathrm{n^{th}}$ Pulse Ratio',fontsize=18)\n",
    "    plt.legend(['Control','CCh 5 $\\mathrm{\\mu}$M'],fontsize=16)\n",
    "    return fig\n",
    "\n",
    "def plot_cch_time_series(data,wodata,colors,wo_ix,npsc,sig_dict,figsize=(12,3)):\n",
    "    \n",
    "    # Extract amplitudes for washin data\n",
    "    data_amps_all = np.array([extract_batch_amps(traces.T,\n",
    "                                             samp_freq=sig_dict['samp_freq'],\n",
    "                                             tbase=sig_dict['tbase'],\n",
    "                                             latency=sig_dict['latency'],\n",
    "                                             win=sig_dict['win'],\n",
    "                                             argm=sig_dict['argm']) for traces in data])\n",
    "    # Extract amplitudes for washout data\n",
    "    wodata_amps_all = np.array([extract_batch_amps(traces.T,\n",
    "                                                   samp_freq=sig_dict['samp_freq'],\n",
    "                                                   tbase=sig_dict['tbase'],\n",
    "                                                   latency=sig_dict['latency'],\n",
    "                                                   win=sig_dict['win'],\n",
    "                                                   argm=sig_dict['argm']) for traces in wodata])\n",
    "    iterdata = iter(wodata_amps_all)\n",
    "\n",
    "    fig,axs =plt.subplots(sharey=True,figsize=figsize,ncols=2,nrows=1)\n",
    "    \n",
    "    # Minumum lengths of washin and washout data\n",
    "\n",
    "    n = min([len(d) for d in data_amps_all])\n",
    "    n2 = min([len(d) for d in wodata_amps_all])\n",
    "\n",
    "    X = []\n",
    "    X2 = []\n",
    "    \n",
    "    # Not all washout data was complete, so normalise to control only for complete datasets\n",
    "    \n",
    "    for ix,x in enumerate(data_amps_all):\n",
    "        x = np.array(x)\n",
    "        x = x.T[npsc]\n",
    "        norm = (x[:10]).mean()\n",
    "        X.append(x[:n]/norm)\n",
    "        if ix in wo_ix:\n",
    "            x2 = np.array(iterdata.next())\n",
    "            x2 = x2.T[npsc]\n",
    "            X2.append(x2[:n2]/norm)\n",
    "\n",
    "    X = np.array(X)\n",
    "    X2 = np.array(X2)\n",
    "\n",
    "    ma_win = 3\n",
    "    \n",
    "    # Standard error and means over 3 trials\n",
    "\n",
    "    S1 = X.std(axis=0)[ma_win-1::3]/len(data_amps_all)\n",
    "    M1 = lfilter(np.ones(ma_win)/ma_win,[1],X.mean(axis=0))[ma_win-1::3]\n",
    "    S2 = X2.std(axis=0)[ma_win-1::3]/len(wodata_amps_all)\n",
    "    M2 = lfilter(np.ones(ma_win)/ma_win,[1],X2.mean(axis=0))[ma_win-1::3]\n",
    "\n",
    "    T1 = np.arange(len(S1)) + 1\n",
    "    T2 = np.arange(len(S2)) + 550/60 + T1[-1]\n",
    "\n",
    "    plt.sca(axs[0])\n",
    "\n",
    "    # Plot washin data\n",
    "    plt.errorbar(T1,M1,yerr=S1,\n",
    "                 fmt='o',color=colors[0],ecolor=colors[0],ms=5)\n",
    "    \n",
    "    # Insert line at y=1\n",
    "    plt.axhline(y=1.0,lw=1,ls='--',color='k')\n",
    "    \n",
    "    # Change background to grey where washin started\n",
    "    plt.axvspan(xmin=T1[3],xmax=T1[-1]+0.5,color='#A59A9A',alpha=0.25)\n",
    "    plt.xlim(T1[0]-0.5,T1[-1]+0.5)\n",
    "\n",
    "    plt.sca(axs[1])\n",
    "    # Plot washout data\n",
    "    plt.errorbar(T2,M2,yerr=S2,\n",
    "                fmt='o',color=colors[0],ecolor=colors[0],ms=5)\n",
    "    \n",
    "    # Insert line at y=1\n",
    "    plt.axhline(y=1.0,lw=1,ls='--',color='k')\n",
    "    \n",
    "    # Change background to grey before washout started\n",
    "    plt.axvspan(xmin=T2[0]-0.5,xmax=T2[3],color='#A59A9A',alpha=0.25)\n",
    "    plt.xlim(T2[0]-0.5,T2[-1]+0.5)\n",
    "    \n",
    "    return fig"
   ]
  },
  {
   "cell_type": "markdown",
   "metadata": {},
   "source": [
    "### Processing and plotting parameters"
   ]
  },
  {
   "cell_type": "code",
   "execution_count": 4,
   "metadata": {
    "collapsed": true,
    "jupyter": {
     "outputs_hidden": true
    }
   },
   "outputs": [],
   "source": [
    "# Dictionary to describe data processing parameters for EPSCs and IPSCs\n",
    "esig_dict = {'samp_freq':25000,'tbase':0.001,'latency':0.002,'win':0.002,'argm':np.min}\n",
    "isig_dict = {'samp_freq':25000,'tbase':0.005,'latency':0.009,'win':0.003,'argm':np.max}\n",
    "\n",
    "# Colors for excitatory (reds) and inhibitory (blues)\n",
    "ecolors = ['#F41111',\"maroon\"]\n",
    "icolors = ['#454FE8','#75A4F7']"
   ]
  },
  {
   "cell_type": "markdown",
   "metadata": {},
   "source": [
    "## MF-EPSC DCG-IV effect"
   ]
  },
  {
   "cell_type": "code",
   "execution_count": 5,
   "metadata": {},
   "outputs": [
    {
     "ename": "AttributeError",
     "evalue": "'NeoHdf5IO' object has no attribute 'close'",
     "output_type": "error",
     "traceback": [
      "\u001b[0;31m---------------------------------------------------------------------------\u001b[0m",
      "\u001b[0;31mAttributeError\u001b[0m                            Traceback (most recent call last)",
      "\u001b[0;32m<ipython-input-5-f92b10dd0cab>\u001b[0m in \u001b[0;36m<module>\u001b[0;34m()\u001b[0m\n\u001b[0;32m----> 1\u001b[0;31m \u001b[0mdata\u001b[0m \u001b[0;34m=\u001b[0m \u001b[0mload_data\u001b[0m\u001b[0;34m(\u001b[0m\u001b[0mpath\u001b[0m\u001b[0;34m=\u001b[0m\u001b[0;34m'./fig1_data/dcgiv_epsc.h5'\u001b[0m\u001b[0;34m)\u001b[0m\u001b[0;34m\u001b[0m\u001b[0m\n\u001b[0m\u001b[1;32m      2\u001b[0m \u001b[0mfig\u001b[0m \u001b[0;34m=\u001b[0m \u001b[0mplot_dcgiv_block_example\u001b[0m\u001b[0;34m(\u001b[0m\u001b[0mdata\u001b[0m\u001b[0;34m,\u001b[0m\u001b[0mn\u001b[0m\u001b[0;34m=\u001b[0m\u001b[0;36m4\u001b[0m\u001b[0;34m,\u001b[0m\u001b[0mcolors\u001b[0m\u001b[0;34m=\u001b[0m\u001b[0mecolors\u001b[0m\u001b[0;34m)\u001b[0m\u001b[0;34m\u001b[0m\u001b[0m\n\u001b[1;32m      3\u001b[0m \u001b[0mplt\u001b[0m\u001b[0;34m.\u001b[0m\u001b[0mtitle\u001b[0m\u001b[0;34m(\u001b[0m\u001b[0;34m'Mossy Fibre EPSCs Blocked By DCG-IV'\u001b[0m\u001b[0;34m,\u001b[0m\u001b[0mfontsize\u001b[0m\u001b[0;34m=\u001b[0m\u001b[0;36m20\u001b[0m\u001b[0;34m)\u001b[0m\u001b[0;34m;\u001b[0m\u001b[0;34m\u001b[0m\u001b[0m\n\u001b[1;32m      4\u001b[0m \u001b[0;34m\u001b[0m\u001b[0m\n\u001b[1;32m      5\u001b[0m \u001b[0;31m# Adjustments for paper\u001b[0m\u001b[0;34m\u001b[0m\u001b[0;34m\u001b[0m\u001b[0m\n",
      "\u001b[0;32m<ipython-input-2-130ba48f5cb4>\u001b[0m in \u001b[0;36mload_data\u001b[0;34m(path)\u001b[0m\n\u001b[1;32m     45\u001b[0m     \u001b[0mr\u001b[0m \u001b[0;34m=\u001b[0m \u001b[0mNeoHdf5IO\u001b[0m\u001b[0;34m(\u001b[0m\u001b[0mpath\u001b[0m\u001b[0;34m)\u001b[0m\u001b[0;34m\u001b[0m\u001b[0m\n\u001b[1;32m     46\u001b[0m     \u001b[0mblks\u001b[0m \u001b[0;34m=\u001b[0m \u001b[0mr\u001b[0m\u001b[0;34m.\u001b[0m\u001b[0mread_all_blocks\u001b[0m\u001b[0;34m(\u001b[0m\u001b[0;34m)\u001b[0m\u001b[0;34m\u001b[0m\u001b[0m\n\u001b[0;32m---> 47\u001b[0;31m     \u001b[0mr\u001b[0m\u001b[0;34m.\u001b[0m\u001b[0mclose\u001b[0m\u001b[0;34m\u001b[0m\u001b[0m\n\u001b[0m\u001b[1;32m     48\u001b[0m     \u001b[0mdata\u001b[0m \u001b[0;34m=\u001b[0m \u001b[0;34m[\u001b[0m\u001b[0mblk\u001b[0m\u001b[0;34m.\u001b[0m\u001b[0msegments\u001b[0m\u001b[0;34m[\u001b[0m\u001b[0;36m0\u001b[0m\u001b[0;34m]\u001b[0m\u001b[0;34m.\u001b[0m\u001b[0manalogsignalarrays\u001b[0m\u001b[0;34m[\u001b[0m\u001b[0;36m0\u001b[0m\u001b[0;34m]\u001b[0m \u001b[0;32mfor\u001b[0m \u001b[0mblk\u001b[0m \u001b[0;32min\u001b[0m \u001b[0mblks\u001b[0m\u001b[0;34m]\u001b[0m\u001b[0;34m\u001b[0m\u001b[0m\n\u001b[1;32m     49\u001b[0m     \u001b[0;32mreturn\u001b[0m \u001b[0mdata\u001b[0m\u001b[0;34m\u001b[0m\u001b[0m\n",
      "\u001b[0;31mAttributeError\u001b[0m: 'NeoHdf5IO' object has no attribute 'close'"
     ]
    }
   ],
   "source": [
    "data = load_data(path='./fig1_data/dcgiv_epsc.h5')\n",
    "fig = plot_dcgiv_block_example(data,n=4,colors=ecolors)\n",
    "plt.title('Mossy Fibre EPSCs Blocked By DCG-IV',fontsize=20);\n",
    "\n",
    "# Adjustments for paper\n",
    "# fig.set_size_inches(3,2)\n",
    "# fig.axes[0].legend_.remove()\n",
    "# fig.text(0.33,0.95,'1 $\\mathrm{\\mu M}$ DCG-IV',fontsize=12)\n",
    "# [txt.set_fontsize(14) for txt in fig.axes[0].texts];\n",
    "# fig.savefig('./reworked_figs/mf-epsc-dvg4-example.svg')"
   ]
  },
  {
   "cell_type": "markdown",
   "metadata": {},
   "source": [
    "## Time course of MF-EPSC DCG-IV effect"
   ]
  },
  {
   "cell_type": "code",
   "execution_count": 6,
   "metadata": {},
   "outputs": [
    {
     "data": {
      "text/plain": [
       "<matplotlib.text.Text at 0x7fcc54d425d0>"
      ]
     },
     "execution_count": 6,
     "metadata": {},
     "output_type": "execute_result"
    },
    {
     "data": {
      "image/png": "[encoded data removed]",
      "text/plain": [
       "<matplotlib.figure.Figure at 0x7fcca0952150>"
      ]
     },
     "metadata": {},
     "output_type": "display_data"
    }
   ],
   "source": [
    "fig = plot_dcgiv_time_series(data,sig_dict=esig_dict,colors=ecolors)\n",
    "remove_upper_right_ticks(plt.gca())\n",
    "plt.ylabel('Normalised \\n EPSC Amplitude', fontsize=16)\n",
    "plt.xlabel('Time (mins)',fontsize=16)\n",
    "\n",
    "plt.xticks((0,3,6,9,12),fontsize=14)\n",
    "plt.yticks((0,1.0),fontsize=14);\n",
    "plt.title('Time course of DCG-IV block', fontsize=20)\n",
    "\n",
    "# Adjustments for paper\n",
    "# fig.set_size_inches(2,1)\n",
    "# fig.axes[0].set_title('',fontsize=20,y=1.1)\n",
    "# fig.text(0.45,0.95,'DCG-IV',fontsize=14)\n",
    "# fig.savefig('./reworked_figs/mf-epsc-dvg4-time.svg')"
   ]
  },
  {
   "cell_type": "markdown",
   "metadata": {},
   "source": [
    "## Example traces of effects of Carbachol on MF-EPSCs"
   ]
  },
  {
   "cell_type": "code",
   "execution_count": 7,
   "metadata": {},
   "outputs": [
    {
     "data": {
      "text/plain": [
       "<matplotlib.text.Text at 0x7fcc5a5aaa50>"
      ]
     },
     "execution_count": 7,
     "metadata": {},
     "output_type": "execute_result"
    },
    {
     "data": {
      "image/png": "[encoded data removed]",
      "text/plain": [
       "<matplotlib.figure.Figure at 0x7fcc5a5aaa10>"
      ]
     },
     "metadata": {},
     "output_type": "display_data"
    }
   ],
   "source": [
    "data = load_data(path='./fig1_data/cch_epsc.h5')\n",
    "fig = plot_cch_example(data,n=6,colors=ecolors,remove_stimaf=True)\n",
    "\n",
    "fig.suptitle('Example Traces: Effect of Carbachol on Mossy Fibre EPSCs', fontsize=20,y=1.2)\n",
    "\n",
    "# [txt.set_fontsize(14) for txt in fig.axes[0].texts];\n",
    "# fig.savefig('./reworked_figs/mf-epsc-cch-example.svg')"
   ]
  },
  {
   "cell_type": "markdown",
   "metadata": {},
   "source": [
    "## Carbachol effect on EPSC amplitudes normalised to control"
   ]
  },
  {
   "cell_type": "code",
   "execution_count": 9,
   "metadata": {
    "scrolled": true
   },
   "outputs": [
    {
     "data": {
      "image/png": "[encoded data removed]",
      "text/plain": [
       "<matplotlib.figure.Figure at 0x7fcc54aec350>"
      ]
     },
     "metadata": {},
     "output_type": "display_data"
    }
   ],
   "source": [
    "fig,means = plot_cch_amps(data,colors=ecolors,sig_dict=esig_dict)\n",
    "remove_upper_right_ticks(plt.gca())\n",
    "plt.xlabel('EPSC num',fontsize=16)\n",
    "plt.ylabel('CCh/\\nControl',fontsize=16)\n",
    "plt.yticks(np.linspace(0,0.8,5),fontsize=16)\n",
    "plt.title('Amplitudes',fontsize=18);\n",
    "\n",
    "# fig.set_size_inches(1.5,1.5)\n",
    "# fig.savefig('./reworked_figs/mf-epsc-cch-amps.svg')"
   ]
  },
  {
   "cell_type": "code",
   "execution_count": 56,
   "metadata": {},
   "outputs": [
    {
     "name": "stdout",
     "output_type": "stream",
     "text": [
      "[ 0.75647285  0.67583483  0.76672146  0.66201361] [ 0.17031093  0.29949592  0.25990337  0.11920568]\n",
      "0.704099715448 0.229471570419\n"
     ]
    }
   ],
   "source": [
    "print (means[1]).mean(axis=0)/(means[0]).mean(axis=0), np.std(means[1]/means[0],axis=0)\n",
    "print (means[1]).mean()/(means[0]).mean(), np.std(means[1]/means[0])"
   ]
  },
  {
   "cell_type": "code",
   "execution_count": 33,
   "metadata": {},
   "outputs": [],
   "source": [
    "epsc_amps_data = np.hstack(means)\n",
    "with open('./fig1_data/epsc_amps.csv','w') as myfile:\n",
    "    np.savetxt(myfile,epsc_amps_data,delimiter=',')"
   ]
  },
  {
   "cell_type": "code",
   "execution_count": 28,
   "metadata": {},
   "outputs": [],
   "source": [
    "ctrl_means,cch_means = means\n",
    "\n",
    "# Nth pulse ratio: ratio between nth pulse and 1st pulse where n > 1\n",
    "ctr_ppr = (ctrl_means.T[1:]/ctrl_means.T[0].mean()).T\n",
    "cch_ppr = (cch_means.T[1:]/cch_means.T[0].mean()).T"
   ]
  },
  {
   "cell_type": "code",
   "execution_count": 32,
   "metadata": {},
   "outputs": [],
   "source": [
    "epsc_ppr_data = np.hstack((ctr_ppr,cch_ppr))\n",
    "with open('./fig1_data/epsc_ppr.csv','w') as myfile:\n",
    "    np.savetxt(myfile,epsc_ppr_data,delimiter=',')"
   ]
  },
  {
   "cell_type": "markdown",
   "metadata": {},
   "source": [
    "##  Carbachol effect on MF-EPSC nth pulse ratio"
   ]
  },
  {
   "cell_type": "code",
   "execution_count": 169,
   "metadata": {},
   "outputs": [
    {
     "data": {
      "image/png": "[encoded data removed]",
      "text/plain": [
       "<matplotlib.figure.Figure at 0x7ff7e6ed5210>"
      ]
     },
     "metadata": {},
     "output_type": "display_data"
    }
   ],
   "source": [
    "fig = plot_cch_ppr(means,colors=ecolors,sig_dict=esig_dict)\n",
    "remove_upper_right_ticks(plt.gca())\n",
    "\n",
    "# fig.set_size_inches(1.5,1.5)\n",
    "# fig.axes[0].legend_.remove()\n",
    "# fig.savefig('./reworked_figs/mf-epsc-cch-npr.svg')"
   ]
  },
  {
   "cell_type": "markdown",
   "metadata": {},
   "source": [
    "## Time Course of Carbachol effect on  MF-EPSC amplitudes: washin and washout"
   ]
  },
  {
   "cell_type": "code",
   "execution_count": 170,
   "metadata": {},
   "outputs": [
    {
     "data": {
      "image/png": "[encoded data removed]",
      "text/plain": [
       "<matplotlib.figure.Figure at 0x7ff7e5360a90>"
      ]
     },
     "metadata": {},
     "output_type": "display_data"
    }
   ],
   "source": [
    "wodata = load_data(path='./fig1_data/cch_wo_epsc.h5')\n",
    "fig = plot_cch_time_series(data,wodata,wo_ix=[2,4,5,6],npsc=3,colors=ecolors,sig_dict=esig_dict)\n",
    "\n",
    "for ax in fig.axes:\n",
    "    remove_upper_right_ticks(ax)\n",
    "    plt.sca(ax)\n",
    "    plt.xticks(fontsize=14)\n",
    "    plt.yticks(fontsize=14)\n",
    "\n",
    "plt.sca(fig.axes[0])\n",
    "plt.yticks([0,0.5,1.0],fontsize=14)\n",
    "plt.ylabel('Normalized \\n EPSC Amplitude', fontsize=16)\n",
    "plt.xlabel('Time (mins)',fontsize=16)\n",
    "plt.xticks(np.linspace(0,12,5))\n",
    "\n",
    "fig.axes[1].spines['left'].set_visible(False)\n",
    "fig.axes[1].yaxis.set_ticks_position('none')\n",
    "plt.sca(fig.axes[1])\n",
    "plt.yticks([0,0.5,1.0])\n",
    "plt.xticks(np.linspace(22,34,4))\n",
    "\n",
    "fig.subplots_adjust(wspace=0.1)\n",
    "# fig.suptitle('Time course of Carbachol effect on Mossy Fibre EPSCs',fontsize=20,y=1.1)\n",
    "\n",
    "# fig.set_size_inches(4.5,1.5)\n",
    "# fig.savefig('./reworked_figs/mf-epsc-cch-time.svg')"
   ]
  },
  {
   "cell_type": "markdown",
   "metadata": {},
   "source": [
    "## MF-IPSC DCG-IV effect"
   ]
  },
  {
   "cell_type": "code",
   "execution_count": 10,
   "metadata": {},
   "outputs": [
    {
     "data": {
      "image/png": "[encoded data removed]",
      "text/plain": [
       "<matplotlib.figure.Figure at 0x7f210be0eb90>"
      ]
     },
     "metadata": {},
     "output_type": "display_data"
    }
   ],
   "source": [
    "data = load_data(path='./fig1_data/dcgiv_ipsc.h5')\n",
    "fig = plot_dcgiv_block_example(data,n=3,colors=icolors)\n",
    "plt.title('Mossy Fibre IPSCs Blocked By DCG-IV',fontsize=20);\n",
    "\n",
    "# Adjustments for paper\n",
    "# fig.set_size_inches(3,2)\n",
    "# fig.axes[0].legend_.remove()\n",
    "# fig.axes[0].set_title('IPSC',fontsize=20,y=1.1)\n",
    "# [txt.set_fontsize(14) for txt in fig.axes[0].texts];\n",
    "# fig.savefig('./reworked_figs/mf-ipsc-dvg4-example.svg')"
   ]
  },
  {
   "cell_type": "markdown",
   "metadata": {},
   "source": [
    "## Time course of MF-IPSC DCG-IV effect"
   ]
  },
  {
   "cell_type": "code",
   "execution_count": 11,
   "metadata": {},
   "outputs": [
    {
     "data": {
      "image/png": "[encoded data removed]",
      "text/plain": [
       "<matplotlib.figure.Figure at 0x7f20fe594a90>"
      ]
     },
     "metadata": {},
     "output_type": "display_data"
    }
   ],
   "source": [
    "fig = plot_dcgiv_time_series(data,sig_dict=isig_dict,colors=icolors)\n",
    "remove_upper_right_ticks(plt.gca())\n",
    "plt.ylabel('Normalised \\n IPSC Amplitude', fontsize=16)\n",
    "plt.xlabel('Time (mins)',fontsize=16)\n",
    "\n",
    "plt.xticks((0,3,6,9,12),fontsize=14)\n",
    "plt.yticks((0,1.0),fontsize=14);\n",
    "#plt.title('Time course of DCG-IV block', fontsize=20)\n",
    "\n",
    "# Adjustments for paper\n",
    "# fig.set_size_inches(2,1)\n",
    "# fig.text(0.33,0.95,'1 $\\mathrm{\\mu M}$ DCG-IV',fontsize=12)\n",
    "# fig.savefig('./reworked_figs/mf-ipsc-dvg4-time.svg')"
   ]
  },
  {
   "cell_type": "markdown",
   "metadata": {},
   "source": [
    "## Example traces of MF-IPSC before and after carbachol"
   ]
  },
  {
   "cell_type": "code",
   "execution_count": 12,
   "metadata": {},
   "outputs": [
    {
     "data": {
      "image/png": "[encoded data removed]",
      "text/plain": [
       "<matplotlib.figure.Figure at 0x7f20fe65d550>"
      ]
     },
     "metadata": {},
     "output_type": "display_data"
    }
   ],
   "source": [
    "data = load_data(path='./fig1_data/cch_ipsc.h5')\n",
    "data = data[:5]\n",
    "fig = plot_cch_example(data,n=1,colors=icolors,remove_stimaf=False)\n",
    "# fig.suptitle('Example Traces: Effect of Carbachol on Mossy Fibre IPSCs', fontsize=20,y=1.2)\n",
    "\n",
    "# [txt.set_fontsize(14) for txt in fig.axes[0].texts];\n",
    "# fig.savefig('./reworked_figs/mf-ipsc-cch-example.svg')"
   ]
  },
  {
   "cell_type": "markdown",
   "metadata": {},
   "source": [
    "## Effect of Carbachol on MF-IPSC amplitudes normalised to control"
   ]
  },
  {
   "cell_type": "code",
   "execution_count": 13,
   "metadata": {},
   "outputs": [
    {
     "data": {
      "image/png": "[encoded data removed]",
      "text/plain": [
       "<matplotlib.figure.Figure at 0x7f20ff9c09d0>"
      ]
     },
     "metadata": {},
     "output_type": "display_data"
    }
   ],
   "source": [
    "fig,means = plot_cch_amps(data,colors=[icolors[1]],sig_dict=isig_dict)\n",
    "remove_upper_right_ticks(plt.gca())\n",
    "plt.xlabel('IPSC num',fontsize=16)\n",
    "plt.ylabel('CCh/\\nControl',fontsize=16)\n",
    "plt.yticks(np.linspace(0,1.0,3),fontsize=16)\n",
    "plt.title('Amplitudes',fontsize=18);\n",
    "\n",
    "# fig.set_size_inches(1.5,1.5)\n",
    "# fig.savefig('./reworked_figs/mf-ipsc-cch-amps.svg')"
   ]
  },
  {
   "cell_type": "markdown",
   "metadata": {},
   "source": [
    "##  Effect of carbachol on MF-IPSC nth pulse ratio"
   ]
  },
  {
   "cell_type": "code",
   "execution_count": 59,
   "metadata": {},
   "outputs": [
    {
     "data": {
      "text/plain": [
       "([<matplotlib.axis.YTick at 0x7fcc5a687090>,\n",
       "  <matplotlib.axis.YTick at 0x7fcc5a687550>,\n",
       "  <matplotlib.axis.YTick at 0x7fcc5a687490>,\n",
       "  <matplotlib.axis.YTick at 0x7fcc5a710350>,\n",
       "  <matplotlib.axis.YTick at 0x7fcc5a773590>],\n",
       " <a list of 5 Text yticklabel objects>)"
      ]
     },
     "execution_count": 59,
     "metadata": {},
     "output_type": "execute_result"
    },
    {
     "data": {
      "image/png": "[encoded data removed]",
      "text/plain": [
       "<matplotlib.figure.Figure at 0x7fcc54a62d90>"
      ]
     },
     "metadata": {},
     "output_type": "display_data"
    }
   ],
   "source": [
    "fig = plot_cch_ppr(means,colors=icolors,sig_dict=isig_dict)\n",
    "remove_upper_right_ticks(plt.gca())\n",
    "\n",
    "plt.yticks(np.linspace(0,20,5),fontsize=16)\n",
    "\n",
    "# fig.set_size_inches(1.5,1.5)\n",
    "# fig.axes[0].legend_.remove()\n",
    "# fig.savefig('./reworked_figs/mf-ipsc-cch-npr.svg')"
   ]
  },
  {
   "cell_type": "code",
   "execution_count": 60,
   "metadata": {},
   "outputs": [
    {
     "name": "stdout",
     "output_type": "stream",
     "text": [
      "[ 1.2153102   0.25325803  0.198371    0.29305876] [ 1.19454266  0.89580483  0.12874764  0.13539195]\n",
      "0.26674957643 0.965593871781\n"
     ]
    }
   ],
   "source": [
    "print (means[1]).mean(axis=0)/(means[0]).mean(axis=0), np.std(means[1]/means[0],axis=0)\n",
    "print (means[1]).mean()/(means[0]).mean(), np.std(means[1]/means[0])"
   ]
  },
  {
   "cell_type": "code",
   "execution_count": 61,
   "metadata": {
    "collapsed": true,
    "jupyter": {
     "outputs_hidden": true
    }
   },
   "outputs": [],
   "source": [
    "ipsc_amps_data = np.hstack(means)\n",
    "with open('./fig1_data/ipsc_amps.csv','w') as myfile:\n",
    "    np.savetxt(myfile,ipsc_amps_data,delimiter=',')"
   ]
  },
  {
   "cell_type": "code",
   "execution_count": 15,
   "metadata": {
    "collapsed": true,
    "jupyter": {
     "outputs_hidden": true
    }
   },
   "outputs": [],
   "source": [
    "ctrl_means,cch_means = means\n",
    "\n",
    "# Nth pulse ratio: ratio between nth pulse and 1st pulse where n > 1\n",
    "ctr_ppr = (ctrl_means.T[1:]/ctrl_means.T[0].mean()).T\n",
    "cch_ppr = (cch_means.T[1:]/cch_means.T[0].mean()).T"
   ]
  },
  {
   "cell_type": "code",
   "execution_count": 16,
   "metadata": {},
   "outputs": [],
   "source": [
    "ipsc_ppr_data = np.hstack((ctr_ppr,cch_ppr))\n",
    "with open('./fig1_data/ipsc_ppr.csv','w') as myfile:\n",
    "    np.savetxt(myfile,ipsc_ppr_data,delimiter=',')"
   ]
  },
  {
   "cell_type": "markdown",
   "metadata": {},
   "source": [
    "## Time course of carbachol effect on MF-IPSC amplitudes: washin and washout"
   ]
  },
  {
   "cell_type": "code",
   "execution_count": 165,
   "metadata": {},
   "outputs": [
    {
     "data": {
      "image/png": "[encoded data removed]",
      "text/plain": [
       "<matplotlib.figure.Figure at 0x7ff7e5226210>"
      ]
     },
     "metadata": {},
     "output_type": "display_data"
    }
   ],
   "source": [
    "wodata = load_data(path='./fig1_data/cch_wo_ipsc.h5')\n",
    "fig = plot_cch_time_series(data,wodata,wo_ix=[2,4],npsc=3,colors=icolors,sig_dict=isig_dict)\n",
    "\n",
    "for ax in fig.axes:\n",
    "    remove_upper_right_ticks(ax)\n",
    "    plt.sca(ax)\n",
    "    plt.xticks(fontsize=14)\n",
    "    plt.yticks(fontsize=14)\n",
    "\n",
    "plt.sca(fig.axes[0])\n",
    "plt.yticks([0,0.5,1.0],fontsize=14)\n",
    "plt.ylabel('Normalized \\n IPSC Amplitude', fontsize=16)\n",
    "plt.xlabel('Time (mins)',fontsize=16)\n",
    "plt.xticks(np.linspace(0,9,4))\n",
    "\n",
    "fig.axes[1].spines['left'].set_visible(False)\n",
    "fig.axes[1].yaxis.set_ticks_position('none')\n",
    "plt.sca(fig.axes[1])\n",
    "plt.yticks([0,0.5,1.0])\n",
    "plt.xticks(np.linspace(20,32,4))\n",
    "\n",
    "fig.subplots_adjust(wspace=0.1)\n",
    "#fig.suptitle('Time course of Carbachol effect on Mossy Fibre IPSCs',fontsize=20,y=1.1)\n",
    "\n",
    "# fig.set_size_inches(4.5,1.5)\n",
    "# fig.savefig('./reworked_figs/mf-ipsc-cch-time.svg')"
   ]
  },
  {
   "cell_type": "code",
   "execution_count": null,
   "metadata": {
    "collapsed": true,
    "jupyter": {
     "outputs_hidden": true
    }
   },
   "outputs": [],
   "source": []
  }
 ],
 "metadata": {
  "kernelspec": {
   "display_name": "Python 3",
   "language": "python",
   "name": "python3"
  },
  "language_info": {
   "codemirror_mode": {
    "name": "ipython",
    "version": 3
   },
   "file_extension": ".py",
   "mimetype": "text/x-python",
   "name": "python",
   "nbconvert_exporter": "python",
   "pygments_lexer": "ipython3",
   "version": "3.7.4"
  }
 },
 "nbformat": 4,
 "nbformat_minor": 4
}
